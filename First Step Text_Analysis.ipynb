{
  "nbformat": 4,
  "nbformat_minor": 0,
  "metadata": {
    "colab": {
      "name": "Q1-Q4 Text Analysis.ipynb",
      "provenance": [],
      "collapsed_sections": [],
      "toc_visible": true
    },
    "kernelspec": {
      "name": "python3",
      "display_name": "Python 3"
    }
  },
  "cells": [
    {
      "cell_type": "code",
      "metadata": {
        "id": "n6DyCQXfHpWG",
        "colab_type": "code",
        "colab": {}
      },
      "source": [
        "#2.4.5 version \n",
        "!apt-get install openjdk-8-jdk-headless -qq > /dev/null\n",
        "!wget -q https://www-us.apache.org/dist/spark/spark-2.4.5/spark-2.4.5-bin-hadoop2.7.tgz\n",
        "!tar xf spark-2.4.5-bin-hadoop2.7.tgz\n",
        "!pip install -q findspark\n",
        "\n",
        "import os\n",
        "os.environ[\"JAVA_HOME\"] = \"/usr/lib/jvm/java-8-openjdk-amd64\"\n",
        "os.environ[\"SPARK_HOME\"] = \"/content/spark-2.4.5-bin-hadoop2.7\""
      ],
      "execution_count": 1,
      "outputs": []
    },
    {
      "cell_type": "code",
      "metadata": {
        "id": "9_0_KKTDK7T4",
        "colab_type": "code",
        "colab": {}
      },
      "source": [
        "import findspark\n",
        "findspark.init()\n",
        "from pyspark.sql import SparkSession\n",
        "import pyspark.sql.functions as psf\n",
        "from pyspark.sql.functions import *\n",
        "from pyspark.sql.functions import col, column\n",
        "import re\n",
        "import pandas as pd\n",
        "from pyspark.sql.functions import desc, asc\n"
      ],
      "execution_count": 2,
      "outputs": []
    },
    {
      "cell_type": "code",
      "metadata": {
        "id": "WEAVq84bMHsQ",
        "colab_type": "code",
        "colab": {}
      },
      "source": [
        "# spark = SparkSession.builder.master(\"local[*]\").getOrCreate()\n",
        "MAX_MEMORY = '12g'\n",
        "\n",
        "spark = SparkSession\\\n",
        "        .builder\\\n",
        "        .appName('Venmo')\\\n",
        "        .config(\"spark.executor.memory\", MAX_MEMORY) \\\n",
        "        .config(\"spark.driver.memory\", MAX_MEMORY) \\\n",
        "        .getOrCreate()"
      ],
      "execution_count": 3,
      "outputs": []
    },
    {
      "cell_type": "code",
      "metadata": {
        "id": "s59Sok072kG3",
        "colab_type": "code",
        "colab": {
          "base_uri": "https://localhost:8080/",
          "height": 52
        },
        "outputId": "7d63b7bc-8b6a-4a33-e3b4-f40e0a1d312b"
      },
      "source": [
        "from google.colab import drive\n",
        "drive.mount('/gdrive')\n",
        "%cd /gdrive/Shared\\ drives/\n",
        "directory=os.getcwd()\n",
        "directory=directory+\"/BAX-423 Big Data Analytics/Venmo/\""
      ],
      "execution_count": 10,
      "outputs": [
        {
          "output_type": "stream",
          "text": [
            "Drive already mounted at /gdrive; to attempt to forcibly remount, call drive.mount(\"/gdrive\", force_remount=True).\n",
            "/gdrive/Shared drives\n"
          ],
          "name": "stdout"
        }
      ]
    },
    {
      "cell_type": "markdown",
      "metadata": {
        "id": "S3XoFa6yfkPv",
        "colab_type": "text"
      },
      "source": [
        "#### whole dataset"
      ]
    },
    {
      "cell_type": "code",
      "metadata": {
        "id": "VlViLnjEMLWY",
        "colab_type": "code",
        "colab": {}
      },
      "source": [
        "sample_data=spark.read.parquet(directory+\"VenmoSample.snappy.parquet\")"
      ],
      "execution_count": 11,
      "outputs": []
    },
    {
      "cell_type": "markdown",
      "metadata": {
        "id": "nefiTlxomHs7",
        "colab_type": "text"
      },
      "source": [
        "#### start"
      ]
    },
    {
      "cell_type": "markdown",
      "metadata": {
        "id": "zB1Mg-4IOeR0",
        "colab_type": "text"
      },
      "source": [
        "transfer the dataset into user 1 as the spender"
      ]
    },
    {
      "cell_type": "code",
      "metadata": {
        "id": "a6xKVGzGXuER",
        "colab_type": "code",
        "colab": {
          "base_uri": "https://localhost:8080/",
          "height": 212
        },
        "outputId": "cbe249ef-d139-4fae-e9d8-726ffe527dc8"
      },
      "source": [
        "transaction_spent = sample_data.select('user1','user2','datetime','description','is_business','story_id').where(col('transaction_type')=='payment')\\\n",
        "                    .union(sample_data.select('user2','user1','datetime','description','is_business','story_id').where(col('transaction_type')=='charge'))\n",
        "transaction_spent.show(5)"
      ],
      "execution_count": 29,
      "outputs": [
        {
          "output_type": "stream",
          "text": [
            "+-------+-------+-------------------+------------+-----------+--------------------+\n",
            "|  user1|  user2|           datetime| description|is_business|            story_id|\n",
            "+-------+-------+-------------------+------------+-----------+--------------------+\n",
            "|1218774|1528945|2015-11-27 10:48:19|        Uber|      false|5657c473cd03c9af2...|\n",
            "|5109483|4782303|2015-06-17 11:37:04|      Costco|      false|5580f9702b64f70ab...|\n",
            "|4322148|3392963|2015-06-19 07:05:31|Sweaty balls|      false|55835ccb1a624b14a...|\n",
            "|2960727|3442373|2016-05-29 23:23:42|           ⚡|      false|574b178ecd03c9af2...|\n",
            "|3977544|2709470|2016-09-29 22:12:07|  Chipotlaid|      false|57ed2f4723e064eac...|\n",
            "+-------+-------+-------------------+------------+-----------+--------------------+\n",
            "only showing top 5 rows\n",
            "\n"
          ],
          "name": "stdout"
        }
      ]
    },
    {
      "cell_type": "markdown",
      "metadata": {
        "id": "bpUmLHqtIcAW",
        "colab_type": "text"
      },
      "source": [
        "### read dictionary "
      ]
    },
    {
      "cell_type": "code",
      "metadata": {
        "id": "aVKGEpVZIe3X",
        "colab_type": "code",
        "colab": {}
      },
      "source": [
        " emoji_dict= spark.read.load(directory+\"Venmo_Emoji_Classification_Dictionary.csv\",\n",
        "                     format=\"csv\", sep=\",\", inferSchema=\"true\", header=\"true\")"
      ],
      "execution_count": 30,
      "outputs": []
    },
    {
      "cell_type": "code",
      "metadata": {
        "id": "HimKnBC8JF4O",
        "colab_type": "code",
        "colab": {}
      },
      "source": [
        "word_dict= spark.read.load(directory+\"Venmo Word Classification Dictonary.csv\",\n",
        "                     format=\"csv\", sep=\",\", inferSchema=\"true\", header=\"true\")\\\n",
        ".withColumnRenamed(\"People \", \"People\")\\\n",
        ".withColumnRenamed(\"Food \", \"Food\")\\\n",
        ".withColumnRenamed(\"Event \", \"Event\")\\\n",
        ".withColumnRenamed('Activity ',\"Activity\")\\\n",
        ".withColumnRenamed('Travel ',\"Travel\")\\\n",
        ".withColumnRenamed('Transportation ',\"Transportation\")\\\n",
        ".withColumnRenamed('Utility ',\"Utility\")\\\n",
        ".withColumnRenamed('Cash',\"Cash\")\\\n",
        ".withColumnRenamed('Illegal/Sarcasm ',\"Illegal\")"
      ],
      "execution_count": 31,
      "outputs": []
    },
    {
      "cell_type": "code",
      "metadata": {
        "id": "eBRz57se9osC",
        "colab_type": "code",
        "colab": {}
      },
      "source": [
        "#union\n",
        "emoji_word_dict=emoji_dict.withColumn(\"Cash\",lit(None))\\\n",
        ".withColumn(\"Illegal\",lit(None))\\\n",
        ".unionByName(word_dict)"
      ],
      "execution_count": 32,
      "outputs": []
    },
    {
      "cell_type": "markdown",
      "metadata": {
        "id": "4N7xYw0OWEd0",
        "colab_type": "text"
      },
      "source": [
        "### Q1\n",
        "Use the text dictionary and the emoji dictionary to classify Venmo’s transactions in your sample dataset."
      ]
    },
    {
      "cell_type": "markdown",
      "metadata": {
        "id": "VfpVwa-BZsiX",
        "colab_type": "text"
      },
      "source": [
        "Tokenize\n"
      ]
    },
    {
      "cell_type": "code",
      "metadata": {
        "id": "xjIutk2lUm0p",
        "colab_type": "code",
        "colab": {}
      },
      "source": [
        "from pyspark.ml.feature import Tokenizer\n",
        "tkn = Tokenizer().setInputCol(\"description\").setOutputCol(\"DescOut\")\n",
        "tokenized = tkn.transform(transaction_spent.select(expr(\"*\")))"
      ],
      "execution_count": 33,
      "outputs": []
    },
    {
      "cell_type": "markdown",
      "metadata": {
        "id": "VGMWvckiO7GR",
        "colab_type": "text"
      },
      "source": [
        "To split emoji and words with has no space in between such as Bdayyy🎉💞🎉"
      ]
    },
    {
      "cell_type": "code",
      "metadata": {
        "id": "QBqUpqd4gufh",
        "colab_type": "code",
        "colab": {
          "base_uri": "https://localhost:8080/",
          "height": 212
        },
        "outputId": "ea75c6f9-2843-4768-9866-e38597dda8bf"
      },
      "source": [
        "colsSplitWordEmoji = udf(lambda z: split_word_emoji(z))\n",
        "spark.udf.register(\"colsSplitWordEmoji\", colsSplitWordEmoji)\n",
        "\n",
        "def split_word_emoji(col):\n",
        "  splited_word_emoji_list=[]\n",
        "  for x in col:\n",
        "    pp=re.findall(\"(\\w+|[^\\w ]+)\",x)\n",
        "    for el in pp:\n",
        "      splited_word_emoji_list.append(el)\n",
        "  return splited_word_emoji_list\n",
        "tokenized_plus=tokenized.withColumn('DescOut',colsSplitWordEmoji(\"DescOut\"))\n",
        "tokenized_plus.show(5)"
      ],
      "execution_count": 34,
      "outputs": [
        {
          "output_type": "stream",
          "text": [
            "+-------+-------+-------------------+------------+-----------+--------------------+---------------+\n",
            "|  user1|  user2|           datetime| description|is_business|            story_id|        DescOut|\n",
            "+-------+-------+-------------------+------------+-----------+--------------------+---------------+\n",
            "|1218774|1528945|2015-11-27 10:48:19|        Uber|      false|5657c473cd03c9af2...|         [uber]|\n",
            "|5109483|4782303|2015-06-17 11:37:04|      Costco|      false|5580f9702b64f70ab...|       [costco]|\n",
            "|4322148|3392963|2015-06-19 07:05:31|Sweaty balls|      false|55835ccb1a624b14a...|[sweaty, balls]|\n",
            "|2960727|3442373|2016-05-29 23:23:42|           ⚡|      false|574b178ecd03c9af2...|            [⚡]|\n",
            "|3977544|2709470|2016-09-29 22:12:07|  Chipotlaid|      false|57ed2f4723e064eac...|   [chipotlaid]|\n",
            "+-------+-------+-------------------+------------+-----------+--------------------+---------------+\n",
            "only showing top 5 rows\n",
            "\n"
          ],
          "name": "stdout"
        }
      ]
    },
    {
      "cell_type": "code",
      "metadata": {
        "id": "50X_ba1JTjuU",
        "colab_type": "code",
        "colab": {
          "base_uri": "https://localhost:8080/",
          "height": 212
        },
        "outputId": "192344c1-ecb3-4e1b-adb0-18a54ed9def4"
      },
      "source": [
        "tokenized_explode=tokenized_plus.withColumn(\"exploded\",split(col(\"DescOut\"),\",\"))\\\n",
        "          .withColumn(\"exploded\",explode(col(\"exploded\")))\\\n",
        "          .withColumn(\"exploded\",translate(\"exploded\",\"[]\",\"\")) #get rid of []\n",
        "tokenized_explode.show(5)"
      ],
      "execution_count": 35,
      "outputs": [
        {
          "output_type": "stream",
          "text": [
            "+-------+-------+-------------------+------------+-----------+--------------------+---------------+--------+\n",
            "|  user1|  user2|           datetime| description|is_business|            story_id|        DescOut|exploded|\n",
            "+-------+-------+-------------------+------------+-----------+--------------------+---------------+--------+\n",
            "|1218774|1528945|2015-11-27 10:48:19|        Uber|      false|5657c473cd03c9af2...|         [uber]|    uber|\n",
            "|5109483|4782303|2015-06-17 11:37:04|      Costco|      false|5580f9702b64f70ab...|       [costco]|  costco|\n",
            "|4322148|3392963|2015-06-19 07:05:31|Sweaty balls|      false|55835ccb1a624b14a...|[sweaty, balls]|  sweaty|\n",
            "|4322148|3392963|2015-06-19 07:05:31|Sweaty balls|      false|55835ccb1a624b14a...|[sweaty, balls]|   balls|\n",
            "|2960727|3442373|2016-05-29 23:23:42|           ⚡|      false|574b178ecd03c9af2...|            [⚡]|       ⚡|\n",
            "+-------+-------+-------------------+------------+-----------+--------------------+---------------+--------+\n",
            "only showing top 5 rows\n",
            "\n"
          ],
          "name": "stdout"
        }
      ]
    },
    {
      "cell_type": "markdown",
      "metadata": {
        "id": "fcinX7f-O0Mq",
        "colab_type": "text"
      },
      "source": [
        "split emoji\n"
      ]
    },
    {
      "cell_type": "code",
      "metadata": {
        "id": "lN4rcuxSUoic",
        "colab_type": "code",
        "colab": {
          "base_uri": "https://localhost:8080/",
          "height": 212
        },
        "outputId": "cfff60b2-5a87-4522-a462-613a4b2c582b"
      },
      "source": [
        "##emoji format can be \\\\u270c or \\\\U00001F680\n",
        "colsEmojiSplit = udf(lambda z: split_emoji(z))\n",
        "spark.udf.register(\"colsEmojiSplit\", colsEmojiSplit)\n",
        "\n",
        "def split_emoji(col):\n",
        "  splited_emoji_list=re.findall('\\\\\\\\[Uu][0-9a-zA-Z]+',col.strip().encode('unicode-escape').decode('utf-8'))\n",
        "  if splited_emoji_list==[]:\n",
        "    splited_emoji_list_decoded=col\n",
        "  else:\n",
        "    splited_emoji_list_decoded=[x.encode('utf-8').decode('unicode-escape') for x in splited_emoji_list]\n",
        "  return splited_emoji_list_decoded\n",
        "  \n",
        "tokenized_explode_plus=tokenized_explode.withColumn('exploded',colsEmojiSplit(\"exploded\"))\\\n",
        "          .withColumn(\"exploded\",translate(\"exploded\",\"[]\",\"\"))\\\n",
        "          .withColumn(\"exploded\",split(col(\"exploded\"),\",\"))\\\n",
        "          .withColumn(\"exploded\",explode(col(\"exploded\")))\\\n",
        "          .withColumn(\"exploded\",trim(col(\"exploded\")))\n",
        "tokenized_explode_plus.show(5)"
      ],
      "execution_count": 36,
      "outputs": [
        {
          "output_type": "stream",
          "text": [
            "+-------+-------+-------------------+------------+-----------+--------------------+---------------+--------+\n",
            "|  user1|  user2|           datetime| description|is_business|            story_id|        DescOut|exploded|\n",
            "+-------+-------+-------------------+------------+-----------+--------------------+---------------+--------+\n",
            "|1218774|1528945|2015-11-27 10:48:19|        Uber|      false|5657c473cd03c9af2...|         [uber]|    uber|\n",
            "|5109483|4782303|2015-06-17 11:37:04|      Costco|      false|5580f9702b64f70ab...|       [costco]|  costco|\n",
            "|4322148|3392963|2015-06-19 07:05:31|Sweaty balls|      false|55835ccb1a624b14a...|[sweaty, balls]|  sweaty|\n",
            "|4322148|3392963|2015-06-19 07:05:31|Sweaty balls|      false|55835ccb1a624b14a...|[sweaty, balls]|   balls|\n",
            "|2960727|3442373|2016-05-29 23:23:42|           ⚡|      false|574b178ecd03c9af2...|            [⚡]|       ⚡|\n",
            "+-------+-------+-------------------+------------+-----------+--------------------+---------------+--------+\n",
            "only showing top 5 rows\n",
            "\n"
          ],
          "name": "stdout"
        }
      ]
    },
    {
      "cell_type": "markdown",
      "metadata": {
        "id": "1-dvzz9RPFzi",
        "colab_type": "text"
      },
      "source": [
        "tag the appearance of emoji and word"
      ]
    },
    {
      "cell_type": "code",
      "metadata": {
        "id": "5xUdOiFgzgA0",
        "colab_type": "code",
        "colab": {
          "base_uri": "https://localhost:8080/",
          "height": 232
        },
        "outputId": "ea238824-2004-437d-dd06-2a9673f8a19e"
      },
      "source": [
        "emoji_word_classified=tokenized_explode_plus\n",
        "for h in ['People','Food','Event','Activity','Travel','Transportation','Utility','Cash','Illegal']:\n",
        "  JoinExpression=emoji_word_classified['exploded']==emoji_word_dict[h]\n",
        "  emoji_word_classified=emoji_word_classified.join(emoji_word_dict.select(col(h)).na.drop(), JoinExpression , 'left_outer')\\\n",
        "                .withColumn(h,when(col(h).isNull(),0).otherwise(1))\n",
        " \n",
        "emoji_word_classified.show(5)"
      ],
      "execution_count": 37,
      "outputs": [
        {
          "output_type": "stream",
          "text": [
            "+-------+-------+-------------------+------------+-----------+--------------------+---------------+--------+------+----+-----+--------+------+--------------+-------+----+-------+\n",
            "|  user1|  user2|           datetime| description|is_business|            story_id|        DescOut|exploded|People|Food|Event|Activity|Travel|Transportation|Utility|Cash|Illegal|\n",
            "+-------+-------+-------------------+------------+-----------+--------------------+---------------+--------+------+----+-----+--------+------+--------------+-------+----+-------+\n",
            "|1218774|1528945|2015-11-27 10:48:19|        Uber|      false|5657c473cd03c9af2...|         [uber]|    uber|     0|   0|    0|       0|     0|             1|      0|   0|      0|\n",
            "|5109483|4782303|2015-06-17 11:37:04|      Costco|      false|5580f9702b64f70ab...|       [costco]|  costco|     0|   1|    0|       0|     0|             0|      0|   0|      0|\n",
            "|4322148|3392963|2015-06-19 07:05:31|Sweaty balls|      false|55835ccb1a624b14a...|[sweaty, balls]|  sweaty|     0|   0|    0|       0|     0|             0|      0|   0|      0|\n",
            "|4322148|3392963|2015-06-19 07:05:31|Sweaty balls|      false|55835ccb1a624b14a...|[sweaty, balls]|   balls|     0|   0|    0|       0|     0|             0|      0|   0|      0|\n",
            "|2960727|3442373|2016-05-29 23:23:42|           ⚡|      false|574b178ecd03c9af2...|            [⚡]|       ⚡|     0|   0|    0|       0|     0|             0|      1|   0|      0|\n",
            "+-------+-------+-------------------+------------+-----------+--------------------+---------------+--------+------+----+-----+--------+------+--------------+-------+----+-------+\n",
            "only showing top 5 rows\n",
            "\n"
          ],
          "name": "stdout"
        }
      ]
    },
    {
      "cell_type": "markdown",
      "metadata": {
        "id": "OKyCEBJ0P4-7",
        "colab_type": "text"
      },
      "source": [
        "group by to unexplode"
      ]
    },
    {
      "cell_type": "code",
      "metadata": {
        "id": "WjhDmOKczEbu",
        "colab_type": "code",
        "colab": {
          "base_uri": "https://localhost:8080/",
          "height": 232
        },
        "outputId": "ac22e2a7-28f7-419a-b8f6-35f8eaab4e50"
      },
      "source": [
        "\n",
        "Venmo_summary=emoji_word_classified.drop(\"exploded\").groupby(['user1','user2','datetime','description','is_business','story_id'])\\\n",
        ".agg(expr(\"sum(People) as People\" ),expr(\"sum(Food) as Food\"),expr(\"sum(Event) as Event\"),expr(\"sum(Activity) as Activity\"),expr(\"sum(Travel) as Travel\"),expr(\"sum(Transportation) as Transportation\"),expr(\"sum(Utility) as Utility\"),expr(\"sum(Cash) as Cash\"),expr(\"sum(Illegal) as Illegal\"))\n",
        "Venmo_summary.cache()\n",
        "Venmo_summary.show(5)"
      ],
      "execution_count": 38,
      "outputs": [
        {
          "output_type": "stream",
          "text": [
            "+-------+-------+-------------------+--------------------+-----------+--------------------+------+----+-----+--------+------+--------------+-------+----+-------+\n",
            "|  user1|  user2|           datetime|         description|is_business|            story_id|People|Food|Event|Activity|Travel|Transportation|Utility|Cash|Illegal|\n",
            "+-------+-------+-------------------+--------------------+-----------+--------------------+------+----+-----+--------+------+--------------+-------+----+-------+\n",
            "|5985976|1672336|2016-09-07 03:28:48|                Tits|      false|57cf270023e064eac...|     0|   0|    0|       0|     0|             0|      0|   0|      0|\n",
            "|4224355|1426485|2015-06-03 12:37:43|                Vons|      false|556e92a7583c04677...|     0|   0|    0|       0|     0|             0|      0|   0|      0|\n",
            "| 238099| 242275|2016-07-24 15:08:57|      We shoulda won|      false|5794779923e064eac...|     0|   0|    0|       0|     0|             0|      0|   0|      0|\n",
            "|1991048|2029031|2016-02-02 09:29:26|Kale salad with b...|      false|56b00676cd03c9af2...|     0|   1|    0|       0|     0|             0|      0|   0|      0|\n",
            "| 729550| 685254|2015-12-15 03:14:23|For NOMZ. 🌽🍆🌭?...|      false|566f150fcd03c9af2...|     0|   5|    0|       0|     0|             0|      0|   0|      0|\n",
            "+-------+-------+-------------------+--------------------+-----------+--------------------+------+----+-----+--------+------+--------------+-------+----+-------+\n",
            "only showing top 5 rows\n",
            "\n"
          ],
          "name": "stdout"
        }
      ]
    },
    {
      "cell_type": "markdown",
      "metadata": {
        "id": "PMmXs02q85VD",
        "colab_type": "text"
      },
      "source": [
        "## Q2"
      ]
    },
    {
      "cell_type": "code",
      "metadata": {
        "id": "oTyXpc06JYR3",
        "colab_type": "code",
        "colab": {}
      },
      "source": [
        "# split emoji list for emoji-only tagging\n",
        "emoji_list_people=emoji_dict.select(\"People\").na.drop()\\\n",
        "          .rdd.map(lambda row : row[0]).collect()\n",
        "emoji_list_food=emoji_dict.select(\"Food\").na.drop()\\\n",
        "          .rdd.map(lambda row : row[0]).collect()\n",
        "emoji_list_event=emoji_dict.select(\"Event\").na.drop()\\\n",
        "          .rdd.map(lambda row : row[0]).collect()\n",
        "emoji_list_activity=emoji_dict.select(\"Activity\").na.drop()\\\n",
        "          .rdd.map(lambda row : row[0]).collect() \n",
        "emoji_list_travel=emoji_dict.select(\"Travel\").na.drop()\\\n",
        "          .rdd.map(lambda row : row[0]).collect()\n",
        "emoji_list_transportation=emoji_dict.select(\"Transportation\").na.drop()\\\n",
        "          .rdd.map(lambda row : row[0]).collect() \n",
        "emoji_list_utility=emoji_dict.select(\"Utility\").na.drop()\\\n",
        "          .rdd.map(lambda row : row[0]).collect()\n",
        "\n"
      ],
      "execution_count": 39,
      "outputs": []
    },
    {
      "cell_type": "markdown",
      "metadata": {
        "id": "0FeWWGD6Dx8O",
        "colab_type": "text"
      },
      "source": [
        "#### What is the percent of emoji only transactions?"
      ]
    },
    {
      "cell_type": "code",
      "metadata": {
        "id": "xzVo0UpF86oz",
        "colab_type": "code",
        "colab": {
          "base_uri": "https://localhost:8080/",
          "height": 232
        },
        "outputId": "989a6f88-8628-4c7f-c9b7-46f0cfea169b"
      },
      "source": [
        "emoji_search=tokenized_explode_plus\n",
        "for h in ['People','Food','Event','Activity','Travel','Transportation','Utility']:\n",
        "  a=0\n",
        "  emoji_list_name='emoji_list_'+h.lower()\n",
        "  emoji_search=emoji_search.withColumn(\n",
        "        h,psf.regexp_extract(\"exploded\", '(?=|\\s)(' + '|'.join(vars()[emoji_list_name]) + ')(?=\\s|)', 0)\n",
        "  )\\\n",
        "    .withColumn(h,psf.when(col(h)=='', '0').otherwise(1))\n",
        "emoji_search.show(5)"
      ],
      "execution_count": 40,
      "outputs": [
        {
          "output_type": "stream",
          "text": [
            "+-------+-------+-------------------+------------+-----------+--------------------+---------------+--------+------+----+-----+--------+------+--------------+-------+\n",
            "|  user1|  user2|           datetime| description|is_business|            story_id|        DescOut|exploded|People|Food|Event|Activity|Travel|Transportation|Utility|\n",
            "+-------+-------+-------------------+------------+-----------+--------------------+---------------+--------+------+----+-----+--------+------+--------------+-------+\n",
            "|1218774|1528945|2015-11-27 10:48:19|        Uber|      false|5657c473cd03c9af2...|         [uber]|    uber|     0|   0|    0|       0|     0|             0|      0|\n",
            "|5109483|4782303|2015-06-17 11:37:04|      Costco|      false|5580f9702b64f70ab...|       [costco]|  costco|     0|   0|    0|       0|     0|             0|      0|\n",
            "|4322148|3392963|2015-06-19 07:05:31|Sweaty balls|      false|55835ccb1a624b14a...|[sweaty, balls]|  sweaty|     0|   0|    0|       0|     0|             0|      0|\n",
            "|4322148|3392963|2015-06-19 07:05:31|Sweaty balls|      false|55835ccb1a624b14a...|[sweaty, balls]|   balls|     0|   0|    0|       0|     0|             0|      0|\n",
            "|2960727|3442373|2016-05-29 23:23:42|           ⚡|      false|574b178ecd03c9af2...|            [⚡]|       ⚡|     0|   0|    0|       0|     0|             0|      1|\n",
            "+-------+-------+-------------------+------------+-----------+--------------------+---------------+--------+------+----+-----+--------+------+--------------+-------+\n",
            "only showing top 5 rows\n",
            "\n"
          ],
          "name": "stdout"
        }
      ]
    },
    {
      "cell_type": "code",
      "metadata": {
        "id": "wduOLtoO-jd4",
        "colab_type": "code",
        "colab": {}
      },
      "source": [
        "Venmo_emoji_only_summary=emoji_search.drop(\"exploded\")\\\n",
        ".withColumn(\"result\", expr('+'.join(['People','Food','Event','Activity','Travel','Transportation','Utility'])))\\\n",
        ".groupby(['user1','user2','datetime','description','is_business','story_id'])\\\n",
        ".agg(expr(\"min(result) as Result\" ))\n"
      ],
      "execution_count": 41,
      "outputs": []
    },
    {
      "cell_type": "code",
      "metadata": {
        "id": "fwYpg7meBEe0",
        "colab_type": "code",
        "colab": {
          "base_uri": "https://localhost:8080/",
          "height": 35
        },
        "outputId": "76b035e3-fc3e-4071-9b96-a3895394be1c"
      },
      "source": [
        "Venmo_emoji_only_summary.where(\"result>0\").count()/Venmo_emoji_only_summary.count()"
      ],
      "execution_count": 42,
      "outputs": [
        {
          "output_type": "execute_result",
          "data": {
            "text/plain": [
              "0.15134068133370693"
            ]
          },
          "metadata": {
            "tags": []
          },
          "execution_count": 42
        }
      ]
    },
    {
      "cell_type": "markdown",
      "metadata": {
        "id": "X9LXM3OND4TS",
        "colab_type": "text"
      },
      "source": [
        "#### Which are the top 5 most popular emoji?"
      ]
    },
    {
      "cell_type": "code",
      "metadata": {
        "id": "enymsNQYFY8R",
        "colab_type": "code",
        "colab": {
          "base_uri": "https://localhost:8080/",
          "height": 232
        },
        "outputId": "237992f3-3a16-4c74-eb7e-8a312d306edc"
      },
      "source": [
        "emoji_search.show(5)"
      ],
      "execution_count": 43,
      "outputs": [
        {
          "output_type": "stream",
          "text": [
            "+-------+-------+-------------------+------------+-----------+--------------------+---------------+--------+------+----+-----+--------+------+--------------+-------+\n",
            "|  user1|  user2|           datetime| description|is_business|            story_id|        DescOut|exploded|People|Food|Event|Activity|Travel|Transportation|Utility|\n",
            "+-------+-------+-------------------+------------+-----------+--------------------+---------------+--------+------+----+-----+--------+------+--------------+-------+\n",
            "|1218774|1528945|2015-11-27 10:48:19|        Uber|      false|5657c473cd03c9af2...|         [uber]|    uber|     0|   0|    0|       0|     0|             0|      0|\n",
            "|5109483|4782303|2015-06-17 11:37:04|      Costco|      false|5580f9702b64f70ab...|       [costco]|  costco|     0|   0|    0|       0|     0|             0|      0|\n",
            "|4322148|3392963|2015-06-19 07:05:31|Sweaty balls|      false|55835ccb1a624b14a...|[sweaty, balls]|  sweaty|     0|   0|    0|       0|     0|             0|      0|\n",
            "|4322148|3392963|2015-06-19 07:05:31|Sweaty balls|      false|55835ccb1a624b14a...|[sweaty, balls]|   balls|     0|   0|    0|       0|     0|             0|      0|\n",
            "|2960727|3442373|2016-05-29 23:23:42|           ⚡|      false|574b178ecd03c9af2...|            [⚡]|       ⚡|     0|   0|    0|       0|     0|             0|      1|\n",
            "+-------+-------+-------------------+------------+-----------+--------------------+---------------+--------+------+----+-----+--------+------+--------------+-------+\n",
            "only showing top 5 rows\n",
            "\n"
          ],
          "name": "stdout"
        }
      ]
    },
    {
      "cell_type": "code",
      "metadata": {
        "id": "XGncy4UjJ2NC",
        "colab_type": "code",
        "colab": {
          "base_uri": "https://localhost:8080/",
          "height": 195
        },
        "outputId": "c10428c3-69c4-444c-d16d-d45c89c37977"
      },
      "source": [
        "Venmo_emoji_summary=emoji_search.withColumn(\"result\", expr('+'.join(['People','Food','Event','Activity','Travel','Transportation','Utility'])))\\\n",
        ".where(\"result>0\")\\\n",
        ".select(\"exploded\")\\\n",
        ".groupby('exploded').count().orderBy(col(\"count\").desc()).limit(5)\n",
        "\n",
        "Venmo_emoji_summary.show(5)"
      ],
      "execution_count": 44,
      "outputs": [
        {
          "output_type": "stream",
          "text": [
            "+--------+------+\n",
            "|exploded| count|\n",
            "+--------+------+\n",
            "|      🍕|215039|\n",
            "|      🍻|145233|\n",
            "|      🍷|111157|\n",
            "|      🎉| 94327|\n",
            "|      🍺| 85710|\n",
            "+--------+------+\n",
            "\n"
          ],
          "name": "stdout"
        }
      ]
    },
    {
      "cell_type": "markdown",
      "metadata": {
        "id": "2KdVL7B0Gv8s",
        "colab_type": "text"
      },
      "source": [
        "#### Which are the top three most popular emoji categories?"
      ]
    },
    {
      "cell_type": "code",
      "metadata": {
        "id": "pGzVqNQnKqC0",
        "colab_type": "code",
        "colab": {
          "base_uri": "https://localhost:8080/",
          "height": 124
        },
        "outputId": "30ec16bb-5283-42df-93e9-fe5c6c6452a8"
      },
      "source": [
        "emoji_search.select(expr(\"sum(People) as People\" ),expr(\"sum(Food) as Food\"),expr(\"sum(Event) as Event\"),\\\n",
        "                    expr(\"sum(Activity) as Activity\"),expr(\"sum(Travel) as Travel\"),expr(\"sum(Transportation) as Transportation\"),\\\n",
        "                    expr(\"sum(Utility) as Utility\")).show(5)"
      ],
      "execution_count": 45,
      "outputs": [
        {
          "output_type": "stream",
          "text": [
            "+---------+---------+--------+--------+--------+--------------+--------+\n",
            "|   People|     Food|   Event|Activity|  Travel|Transportation| Utility|\n",
            "+---------+---------+--------+--------+--------+--------------+--------+\n",
            "|1011889.0|1744390.0|163141.0|423988.0|111848.0|      258830.0|301868.0|\n",
            "+---------+---------+--------+--------+--------+--------------+--------+\n",
            "\n"
          ],
          "name": "stdout"
        }
      ]
    },
    {
      "cell_type": "markdown",
      "metadata": {
        "id": "CtnKu6-6E-75",
        "colab_type": "text"
      },
      "source": [
        "## Q3 \n",
        "For each user, create a variable to indicate their spending behavior profile. \n"
      ]
    },
    {
      "cell_type": "code",
      "metadata": {
        "id": "kcfynl5kFCi_",
        "colab_type": "code",
        "colab": {
          "base_uri": "https://localhost:8080/",
          "height": 232
        },
        "outputId": "c9134180-3151-475c-e92a-b2bbad12cb25"
      },
      "source": [
        "Venmo_summary_by_user=Venmo_summary.repartition('user1')\\\n",
        ".withColumn(\"result\", expr('+'.join(['People','Food','Event','Activity','Travel','Transportation','Utility','Cash','Illegal'])))\\\n",
        ".groupby(['user1'])\\\n",
        ".agg(expr(\"sum(People)/sum(result) as People\" ),expr(\"sum(Food)/sum(result) as Food\"),expr(\"sum(Event)/sum(result) as Event\"),\\\n",
        "     expr(\"sum(Activity)/sum(result) as Activity\"),expr(\"sum(Travel)/sum(result) as Travel\"),expr(\"sum(Transportation)/sum(result) as Transportation\"),\\\n",
        "     expr(\"sum(Utility)/sum(result) as Utility\"),expr(\"sum(Cash)/sum(result) as Cash\"),expr(\"sum(Illegal)/sum(result) as Illegal\"),\\\n",
        "     expr(\"sum(result) as total\"))\\\n",
        ".na.fill(0)\\\n",
        ".drop(\"total\")\n",
        "Venmo_summary_by_user.show(5)"
      ],
      "execution_count": 46,
      "outputs": [
        {
          "output_type": "stream",
          "text": [
            "+-------+-------------------+-------------------+--------------------+-------------------+--------------------+-------------------+------------------+-------------------+--------------------+\n",
            "|  user1|             People|               Food|               Event|           Activity|              Travel|     Transportation|           Utility|               Cash|             Illegal|\n",
            "+-------+-------------------+-------------------+--------------------+-------------------+--------------------+-------------------+------------------+-------------------+--------------------+\n",
            "|1023874|                0.5|                0.5|                 0.0|                0.0|                 0.0|                0.0|               0.0|                0.0|                 0.0|\n",
            "|1081822|0.14285714285714285|0.14285714285714285|  0.5714285714285714|0.14285714285714285|                 0.0|                0.0|               0.0|                0.0|                 0.0|\n",
            "| 180155|0.14285714285714285|0.14285714285714285| 0.07142857142857142|0.42857142857142855|                 0.0|0.07142857142857142|               0.0|0.07142857142857142| 0.07142857142857142|\n",
            "|1530299| 0.2727272727272727|0.09090909090909091|0.045454545454545456|0.18181818181818182|0.045454545454545456|                0.0|0.3181818181818182|                0.0|0.045454545454545456|\n",
            "| 892857|                0.5|                0.0|                 0.0|                0.0|                 0.0|                0.0|              0.25|                0.0|                0.25|\n",
            "+-------+-------------------+-------------------+--------------------+-------------------+--------------------+-------------------+------------------+-------------------+--------------------+\n",
            "only showing top 5 rows\n",
            "\n"
          ],
          "name": "stdout"
        }
      ]
    },
    {
      "cell_type": "markdown",
      "metadata": {
        "id": "jX9YGhySS7Z1",
        "colab_type": "text"
      },
      "source": [
        "## Q4"
      ]
    },
    {
      "cell_type": "code",
      "metadata": {
        "id": "R76zhZZGS9b3",
        "colab_type": "code",
        "colab": {}
      },
      "source": [
        "startdate = transaction_spent.select('user1','datetime')\\\n",
        "                  .groupby('user1')\\\n",
        "                  .agg(min('datetime').alias('start_datetime'))\\\n",
        "                  .orderBy('start_datetime')\n",
        "                                "
      ],
      "execution_count": 47,
      "outputs": []
    },
    {
      "cell_type": "code",
      "metadata": {
        "id": "xFMHIdT_HOBz",
        "colab_type": "code",
        "colab": {}
      },
      "source": [
        "transaction_spent.createOrReplaceTempView(\"transaction_spent\")\n",
        "user_all_lifepoint = spark.sql(\"\"\"\n",
        "SELECT\n",
        "*\n",
        "FROM(\n",
        "select DISTINCT user1, 0 as lifepoint\n",
        "from transaction_spent\n",
        "Union\n",
        "select DISTINCT user1, 1 as lifepoint\n",
        "from transaction_spent\n",
        "Union\n",
        "select DISTINCT user1, 2 as lifepoint\n",
        "from transaction_spent\n",
        "Union\n",
        "select DISTINCT user1, 3 as lifepoint\n",
        "from transaction_spent\n",
        "Union\n",
        "select DISTINCT user1, 4 as lifepoint\n",
        "from transaction_spent\n",
        "Union\n",
        "select DISTINCT user1, 5 as lifepoint\n",
        "from transaction_spent\n",
        "Union\n",
        "select DISTINCT user1, 6 as lifepoint\n",
        "from transaction_spent\n",
        "Union\n",
        "select DISTINCT user1, 7 as lifepoint\n",
        "from transaction_spent\n",
        "Union\n",
        "select DISTINCT user1, 8 as lifepoint\n",
        "from transaction_spent\n",
        "Union\n",
        "select DISTINCT user1, 9 as lifepoint\n",
        "from transaction_spent\n",
        "Union\n",
        "select DISTINCT user1, 10 as lifepoint\n",
        "from transaction_spent\n",
        "Union\n",
        "select DISTINCT user1, 11 as lifepoint\n",
        "from transaction_spent\n",
        "Union\n",
        "select DISTINCT user1, 12 as lifepoint\n",
        "from transaction_spent\n",
        ")a\n",
        "ORDER BY user1,lifepoint\n",
        "\"\"\")\n",
        "user_all_lifepoint.createOrReplaceTempView(\"user_all_lifepoint\")"
      ],
      "execution_count": 48,
      "outputs": []
    },
    {
      "cell_type": "code",
      "metadata": {
        "id": "cKXmviAMXVqv",
        "colab_type": "code",
        "colab": {}
      },
      "source": [
        "Venmo_summary_by_user_by_time=Venmo_summary.repartition('user1')\\\n",
        "                      .join(startdate, Venmo_summary.user1==startdate.user1)\\\n",
        "                         .drop(startdate.user1)\\\n",
        "                         .withColumn(\"lifetime\", ceil(datediff(Venmo_summary.datetime, startdate.start_datetime)/30))\\\n",
        ".withColumn(\"result\", expr('+'.join(['People','Food','Event','Activity','Travel','Transportation','Utility'])))\\\n",
        ".groupby(['user1','lifetime'])\\\n",
        ".agg(expr(\"sum(People) as People\" ),expr(\"sum(Food) as Food\"),expr(\"sum(Event) as Event\"),\\\n",
        "     expr(\"sum(Activity) as Activity\"),expr(\"sum(Travel) as Travel\"),expr(\"sum(Transportation) as Transportation\"),\\\n",
        "     expr(\"sum(Utility) as Utility\"),expr(\"sum(Cash) as Cash\"),expr(\"sum(Illegal) as Illegal\"),\\\n",
        "     expr(\"sum(result) as total\"))"
      ],
      "execution_count": 49,
      "outputs": []
    },
    {
      "cell_type": "code",
      "metadata": {
        "id": "2x8KYhIbHaMS",
        "colab_type": "code",
        "colab": {}
      },
      "source": [
        "from pyspark.sql.window import Window\n",
        "from pyspark.sql.functions import desc\n",
        "windowSpec = Window\\\n",
        ".partitionBy(\"user1\")\\\n",
        ".orderBy(\"lifetime\")\\\n",
        ".rowsBetween(Window.unboundedPreceding, Window.currentRow)"
      ],
      "execution_count": 50,
      "outputs": []
    },
    {
      "cell_type": "code",
      "metadata": {
        "id": "Cv47EHafHkmF",
        "colab_type": "code",
        "colab": {
          "base_uri": "https://localhost:8080/",
          "height": 212
        },
        "outputId": "dfe91bf7-bdd3-45a7-a8d0-e07db241d009"
      },
      "source": [
        "Venmo_summary_by_user_by_time.show(5)"
      ],
      "execution_count": 51,
      "outputs": [
        {
          "output_type": "stream",
          "text": [
            "+-----+--------+------+----+-----+--------+------+--------------+-------+----+-------+-----+\n",
            "|user1|lifetime|People|Food|Event|Activity|Travel|Transportation|Utility|Cash|Illegal|total|\n",
            "+-----+--------+------+----+-----+--------+------+--------------+-------+----+-------+-----+\n",
            "| 2866|       0|     0|   0|    0|       0|     0|             0|      0|   0|      0|    0|\n",
            "| 6620|       0|     0|   0|    0|       0|     1|             0|      0|   0|      0|    1|\n",
            "| 6620|      16|     0|   0|    0|       0|     0|             0|      0|   0|      0|    0|\n",
            "|20735|       0|     0|   3|    0|       1|     0|             0|      0|   0|      0|    4|\n",
            "|28170|      48|     0|   0|    0|       0|     0|             0|      5|   0|      0|    5|\n",
            "+-----+--------+------+----+-----+--------+------+--------------+-------+----+-------+-----+\n",
            "only showing top 5 rows\n",
            "\n"
          ],
          "name": "stdout"
        }
      ]
    },
    {
      "cell_type": "code",
      "metadata": {
        "id": "QuHrF4xhr6Oo",
        "colab_type": "code",
        "colab": {
          "base_uri": "https://localhost:8080/",
          "height": 35
        },
        "outputId": "b8a60d9f-f18f-48a6-e5f4-5f13919be13e"
      },
      "source": [
        "Venmo_summary_by_user_by_time.count()"
      ],
      "execution_count": 58,
      "outputs": [
        {
          "output_type": "execute_result",
          "data": {
            "text/plain": [
              "6283837"
            ]
          },
          "metadata": {
            "tags": []
          },
          "execution_count": 58
        }
      ]
    },
    {
      "cell_type": "markdown",
      "metadata": {
        "id": "I-iq1gEsXeFO",
        "colab_type": "text"
      },
      "source": [
        "### add lifepoint\n"
      ]
    },
    {
      "cell_type": "code",
      "metadata": {
        "id": "_4drv0sVS-oA",
        "colab_type": "code",
        "colab": {}
      },
      "source": [
        "user_all_lifepoint_tagged=user_all_lifepoint.join(Venmo_summary_by_user_by_time.alias(\"l\"),(user_all_lifepoint['user1']==Venmo_summary_by_user_by_time['user1'])&(user_all_lifepoint['lifepoint']==Venmo_summary_by_user_by_time['lifetime']),'left')\\\n",
        ".drop(col('l.user1')).orderBy(\"user1\",\"lifepoint\").na.fill(0)"
      ],
      "execution_count": 52,
      "outputs": []
    },
    {
      "cell_type": "code",
      "metadata": {
        "id": "YglQT9qiGe-d",
        "colab_type": "code",
        "colab": {
          "base_uri": "https://localhost:8080/",
          "height": 301
        },
        "outputId": "015d04fe-c849-4221-e7a6-b4828108bc58"
      },
      "source": [
        "user_all_lifepoint_tagged.show(10)"
      ],
      "execution_count": 53,
      "outputs": [
        {
          "output_type": "stream",
          "text": [
            "+-----+---------+--------+------+----+-----+--------+------+--------------+-------+----+-------+-----+\n",
            "|user1|lifepoint|lifetime|People|Food|Event|Activity|Travel|Transportation|Utility|Cash|Illegal|total|\n",
            "+-----+---------+--------+------+----+-----+--------+------+--------------+-------+----+-------+-----+\n",
            "|    2|        0|       0|     0|   0|    0|       0|     0|             0|      1|   0|      0|    1|\n",
            "|    2|        1|       0|     0|   0|    0|       0|     0|             0|      0|   0|      0|    0|\n",
            "|    2|        2|       0|     0|   0|    0|       0|     0|             0|      0|   0|      0|    0|\n",
            "|    2|        3|       0|     0|   0|    0|       0|     0|             0|      0|   0|      0|    0|\n",
            "|    2|        4|       0|     0|   0|    0|       0|     0|             0|      0|   0|      0|    0|\n",
            "|    2|        5|       0|     0|   0|    0|       0|     0|             0|      0|   0|      0|    0|\n",
            "|    2|        6|       0|     0|   0|    0|       0|     0|             0|      0|   0|      0|    0|\n",
            "|    2|        7|       0|     0|   0|    0|       0|     0|             0|      0|   0|      0|    0|\n",
            "|    2|        8|       0|     0|   0|    0|       0|     0|             0|      0|   0|      0|    0|\n",
            "|    2|        9|       0|     0|   0|    0|       0|     0|             0|      0|   0|      0|    0|\n",
            "+-----+---------+--------+------+----+-----+--------+------+--------------+-------+----+-------+-----+\n",
            "only showing top 10 rows\n",
            "\n"
          ],
          "name": "stdout"
        }
      ]
    },
    {
      "cell_type": "markdown",
      "metadata": {
        "id": "ctSarA9zODhN",
        "colab_type": "text"
      },
      "source": [
        "Roling sum using windows functioin and percentage"
      ]
    },
    {
      "cell_type": "code",
      "metadata": {
        "id": "wigc8OVEHguR",
        "colab_type": "code",
        "colab": {}
      },
      "source": [
        "# from pyspark.sql.functions import max\n",
        "SumPeople = sum(col(\"People\")).over(windowSpec)\n",
        "SumFood = sum(col(\"Food\")).over(windowSpec)\n",
        "SumEvent = sum(col(\"Event\")).over(windowSpec)\n",
        "SumActivity = sum(col(\"Activity\")).over(windowSpec)\n",
        "SumTravel = sum(col(\"Travel\")).over(windowSpec)\n",
        "SumTransportation = sum(col(\"Transportation\")).over(windowSpec)\n",
        "SumUtility = sum(col(\"Utility\")).over(windowSpec)\n",
        "SumCash = sum(col(\"Cash\")).over(windowSpec)\n",
        "SumIllegal = sum(col(\"Illegal\")).over(windowSpec)\n",
        "\n",
        "maxresult = sum(col(\"total\")).over(windowSpec)\n",
        "Venmo_summary_by_user_by_lifetime=user_all_lifepoint_tagged.repartition(col('user1'))\\\n",
        "                         .select(col(\"user1\"),col(\"lifepoint\"),(SumPeople/maxresult).alias(\"People\"),(SumFood/maxresult).alias(\"Food\"),\\\n",
        "                                 (SumEvent/maxresult).alias(\"Event\"),(SumActivity/maxresult).alias(\"Activity\"),(SumTravel/maxresult).alias(\"Travel\"),\\\n",
        "                                 (SumTransportation/maxresult).alias(\"Transportation\"),(SumUtility/maxresult).alias(\"Utility\"),(SumCash/maxresult).alias(\"Cash\"),\\\n",
        "                                 (SumIllegal/maxresult).alias(\"Illegal\"),\\\n",
        "                                 maxresult.alias(\"Total\"))\\\n",
        "                         .na.fill(0)"
      ],
      "execution_count": 54,
      "outputs": []
    },
    {
      "cell_type": "code",
      "metadata": {
        "id": "mg7mwBk3FxM4",
        "colab_type": "code",
        "colab": {}
      },
      "source": [
        "lifetime_avg=Venmo_summary_by_user_by_lifetime.groupby(['lifepoint'])\\\n",
        ".agg(expr(\"avg(People) as People\" ),expr(\"avg(Food) as Food\"),expr(\"avg(Event) as Event\"),\\\n",
        "     expr(\"avg(Activity) as Activity\"),expr(\"avg(Travel) as Travel\"),expr(\"avg(Transportation) as Transportation\"),\\\n",
        "     expr(\"avg(Utility) as Utility\"),expr(\"avg(Cash) as Cash\"),expr(\"avg(Illegal) as Illegal\"))"
      ],
      "execution_count": 55,
      "outputs": []
    },
    {
      "cell_type": "code",
      "metadata": {
        "id": "9JZvsn9QiSwZ",
        "colab_type": "code",
        "colab": {}
      },
      "source": [
        "lifetime_avg.createOrReplaceTempView(\"lifetime_avg\")\n",
        "lifetime_avg_sql_pd=spark.sql(\"SELECT lifepoint,stack(9,'People',People,'Food',Food,'Event',Event,'Activity',Activity,'Travel',Travel,'Transportation',Transportation,\\\n",
        "'Utility',Utility,'Cash',Cash,'Illegal',Illegal) as (Category, percentage) from lifetime_avg\")\\\n",
        ".toPandas()"
      ],
      "execution_count": 56,
      "outputs": []
    },
    {
      "cell_type": "code",
      "metadata": {
        "id": "xx8I2Q5EnC-z",
        "colab_type": "code",
        "colab": {
          "base_uri": "https://localhost:8080/",
          "height": 279
        },
        "outputId": "3f35108c-75c0-4dae-d2b8-673e92359625"
      },
      "source": [
        "import numpy as np\n",
        "import matplotlib.pyplot as plt\n",
        "from matplotlib import rc\n",
        "\n",
        "# y-axis in bold\n",
        "rc('font', weight='bold')\n",
        " \n",
        "# Values of each group\n",
        "bars1 = lifetime_avg_sql_pd[lifetime_avg_sql_pd.Category=='People']['percentage'].tolist()\n",
        "bars2 = lifetime_avg_sql_pd[lifetime_avg_sql_pd.Category=='Food']['percentage'].tolist()\n",
        "bars3 = lifetime_avg_sql_pd[lifetime_avg_sql_pd.Category=='Event']['percentage'].tolist()\n",
        "bars4 = lifetime_avg_sql_pd[lifetime_avg_sql_pd.Category=='Activity']['percentage'].tolist()\n",
        "bars5 = lifetime_avg_sql_pd[lifetime_avg_sql_pd.Category=='Travel']['percentage'].tolist()\n",
        "bars6 = lifetime_avg_sql_pd[lifetime_avg_sql_pd.Category=='Transportation']['percentage'].tolist()\n",
        "bars7 = lifetime_avg_sql_pd[lifetime_avg_sql_pd.Category=='Utility']['percentage'].tolist()\n",
        "bars8 = lifetime_avg_sql_pd[lifetime_avg_sql_pd.Category=='Cash']['percentage'].tolist()\n",
        "bars9 = lifetime_avg_sql_pd[lifetime_avg_sql_pd.Category=='Illegal']['percentage'].tolist()\n",
        "\n",
        "# Heights of bars\n",
        "bars12 = np.add(bars1, bars2).tolist()\n",
        "bars23 = np.add(bars12,bars3).tolist()\n",
        "bars34 = np.add(bars23,bars4).tolist()\n",
        "bars45 = np.add(bars34, bars5).tolist()\n",
        "bars56 = np.add(bars45,bars6).tolist()\n",
        "bars67 = np.add(bars56,bars7).tolist()\n",
        "bars78 = np.add(bars67,bars8).tolist()\n",
        "bars89 = np.add(bars78,bars9).tolist()\n",
        " \n",
        "# The position of the bars on the x-axis\n",
        "r = [0,1,2,3,4,5,6,7,8,9,10,11,12]\n",
        " \n",
        "# Names of group and bar width\n",
        "names = r\n",
        "barWidth = 1\n",
        " \n",
        "# Create brown bars\n",
        "plt.bar(r, bars1, color='#7f6d5f', edgecolor='white', width=barWidth, label=\"People\")\n",
        "# Create green bars (middle), on top of the firs ones\n",
        "plt.bar(r, bars2, bottom=bars1, color='#567f2d', edgecolor='white', width=barWidth, label=\"Food\")\n",
        "# Create green bars (top)\n",
        "plt.bar(r, bars3, bottom=bars12, color='#2d7f5e', edgecolor='white', width=barWidth, label=\"Event\")\n",
        "plt.bar(r, bars4, bottom=bars23, color='#429bf5', edgecolor='white', width=barWidth, label=\"Activity\")\n",
        "plt.bar(r, bars5, bottom=bars34, color='#f542dd', edgecolor='white', width=barWidth, label=\"Travel\")\n",
        "plt.bar(r, bars6, bottom=bars45, color='#28b8d1', edgecolor='white', width=barWidth, label=\"Transportation\")\n",
        "plt.bar(r, bars7, bottom=bars56, color='#61132b', edgecolor='white', width=barWidth, label=\"Utility\")\n",
        "plt.bar(r, bars8, bottom=bars67, color='#1c1c87', edgecolor='white', width=barWidth, label=\"Cash\")\n",
        "plt.bar(r, bars9, bottom=bars78, color='#0d0004', edgecolor='white', width=barWidth, label=\"Illegal\")\n",
        "plt.legend(loc='upper left', bbox_to_anchor=(1,1), ncol=1)\n",
        "\n",
        "# Custom X axis\n",
        "plt.xticks(r, names, fontweight='bold')\n",
        "plt.xlabel(\"lifetime\")\n",
        "plt.yticks\n",
        "# Show graphic\n",
        "plt.show()"
      ],
      "execution_count": 57,
      "outputs": [
        {
          "output_type": "display_data",
          "data": {
            "image/png": "[encoded data removed]",
            "text/plain": [
              "<Figure size 432x288 with 1 Axes>"
            ]
          },
          "metadata": {
            "tags": [],
            "needs_background": "light"
          }
        }
      ]
    }
  ]
}